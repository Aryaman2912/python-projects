{
 "cells": [
  {
   "cell_type": "code",
   "execution_count": 12,
   "metadata": {},
   "outputs": [
    {
     "name": "stdout",
     "output_type": "stream",
     "text": [
      "Enter the number you want to factorize: 178\n",
      "Prime factors of 178 are:\n",
      "2, 89\n"
     ]
    }
   ],
   "source": [
    "import math\n",
    "\n",
    "factors = []\n",
    "def factorize(n):\n",
    "    temp = n\n",
    "    for i in range(2,n//2+1):\n",
    "        if n % i == 0:\n",
    "            while n % i == 0:\n",
    "                factors.append(i)\n",
    "                n /= i\n",
    "n = int(input(\"Enter the number you want to factorize: \"))\n",
    "factorize(n)\n",
    "print(f'Prime factors of {n} are:')\n",
    "print(\", \".join(str(item) for item in factors))"
   ]
  }
 ],
 "metadata": {
  "kernelspec": {
   "display_name": "Python 3",
   "language": "python",
   "name": "python3"
  },
  "language_info": {
   "codemirror_mode": {
    "name": "ipython",
    "version": 3
   },
   "file_extension": ".py",
   "mimetype": "text/x-python",
   "name": "python",
   "nbconvert_exporter": "python",
   "pygments_lexer": "ipython3",
   "version": "3.7.6"
  }
 },
 "nbformat": 4,
 "nbformat_minor": 4
}
