{
 "cells": [
  {
   "cell_type": "code",
   "execution_count": 9,
   "metadata": {},
   "outputs": [
    {
     "name": "stdout",
     "output_type": "stream",
     "text": [
      "Enter the number you want to factorize17\n",
      "Prime factors of 17 are:\n",
      "\n"
     ]
    }
   ],
   "source": [
    "import math\n",
    "\n",
    "factors = []\n",
    "def factorize(n):\n",
    "    temp = n\n",
    "    for i in range(2,math.ceil(math.sqrt(n))+1):\n",
    "        if n % i == 0:\n",
    "            while n % i == 0:\n",
    "                n /= i\n",
    "                factors.append(i)\n",
    "n = int(input(\"Enter the number you want to factorize\"))\n",
    "factorize(n)\n",
    "print(f'Prime factors of {n} are:')\n",
    "print(\" \".join(str(item) for item in factors))"
   ]
  },
  {
   "cell_type": "code",
   "execution_count": null,
   "metadata": {},
   "outputs": [],
   "source": []
  }
 ],
 "metadata": {
  "kernelspec": {
   "display_name": "Python 3",
   "language": "python",
   "name": "python3"
  },
  "language_info": {
   "codemirror_mode": {
    "name": "ipython",
    "version": 3
   },
   "file_extension": ".py",
   "mimetype": "text/x-python",
   "name": "python",
   "nbconvert_exporter": "python",
   "pygments_lexer": "ipython3",
   "version": "3.7.6"
  }
 },
 "nbformat": 4,
 "nbformat_minor": 4
}
