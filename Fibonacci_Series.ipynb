{
 "cells": [
  {
   "cell_type": "code",
   "execution_count": 5,
   "metadata": {},
   "outputs": [
    {
     "name": "stdout",
     "output_type": "stream",
     "text": [
      "How many numbers do you need? 5\n",
      "0\n",
      "1\n",
      "1\n",
      "2\n",
      "3\n"
     ]
    }
   ],
   "source": [
    "# Recursive Approach\n",
    "# Exponential time\n",
    "\n",
    "series = [0,1]\n",
    "def Fibonacci(n,i):\n",
    "    if i == n:\n",
    "        return\n",
    "    else:\n",
    "        series.append(series[i-1] + series[i-2])\n",
    "        Fibonacci(n,i+1)\n",
    "n = int(input(\"How many numbers do you need? \"))\n",
    "if n == 1:\n",
    "    print(\"0\")\n",
    "elif n == 2:\n",
    "    print(\"0 1\")\n",
    "else:\n",
    "    Fibonacci(n,2)\n",
    "    for item in series:\n",
    "        print(item)"
   ]
  },
  {
   "cell_type": "code",
   "execution_count": 7,
   "metadata": {},
   "outputs": [
    {
     "name": "stdout",
     "output_type": "stream",
     "text": [
      "How many numbers do you need? 5\n",
      "0\n",
      "1\n",
      "1\n",
      "2\n",
      "3\n"
     ]
    }
   ],
   "source": [
    "# Dynamic Programming\n",
    "# Linear time\n",
    "\n",
    "series_dp = [0,1]\n",
    "def fibonacci(n):\n",
    "    for i in range(2,n):\n",
    "        series_dp.append(series_dp[i-1]+series_dp[i-2])\n",
    "        \n",
    "n = int(input(\"How many numbers do you need? \"))\n",
    "if n == 1:\n",
    "    print(\"0\")\n",
    "elif n == 2:\n",
    "    print(\"0 1\")\n",
    "else:\n",
    "    fibonacci(n)\n",
    "    for item in series_dp:\n",
    "        print(item)"
   ]
  },
  {
   "cell_type": "code",
   "execution_count": 9,
   "metadata": {},
   "outputs": [
    {
     "name": "stdout",
     "output_type": "stream",
     "text": [
      "How many numbers do you need? 5\n",
      "0\n",
      "1\n",
      "1\n",
      "2\n",
      "3\n"
     ]
    }
   ],
   "source": [
    "# Recursive Approach 2 \n",
    "# Exponential time\n",
    "\n",
    "def fibonacci(n):\n",
    "    if n == 0 or n == 1:\n",
    "        return n\n",
    "    else:\n",
    "        return fibonacci(n-1) + fibonacci(n-2)\n",
    "\n",
    "n = int(input(\"How many numbers do you need? \"))\n",
    "    \n",
    "if n == 1:\n",
    "    print(\"0\")\n",
    "elif n == 2:\n",
    "    print(\"0 1\")\n",
    "else:    \n",
    "    for i in range(n):\n",
    "        print(fibonacci(i))"
   ]
  }
 ],
 "metadata": {
  "kernelspec": {
   "display_name": "Python 3",
   "language": "python",
   "name": "python3"
  },
  "language_info": {
   "codemirror_mode": {
    "name": "ipython",
    "version": 3
   },
   "file_extension": ".py",
   "mimetype": "text/x-python",
   "name": "python",
   "nbconvert_exporter": "python",
   "pygments_lexer": "ipython3",
   "version": "3.7.6"
  }
 },
 "nbformat": 4,
 "nbformat_minor": 4
}
