{
 "cells": [
  {
   "cell_type": "code",
   "execution_count": 9,
   "metadata": {},
   "outputs": [
    {
     "name": "stdout",
     "output_type": "stream",
     "text": [
      "How many digits of precision of pi do you want?(Less than 105) 23\n",
      "pi = 3.14159265358979323846264\n"
     ]
    }
   ],
   "source": [
    "PI = \"3.14159265358979323846264338327950288419716939937510582097494459230781640628620899862803482534211706798214\"\n",
    "k = int(input(\"How many digits of precision of pi do you want?(Less than 105) \"))\n",
    "print(f'pi = {PI[:k+2]}')"
   ]
  },
  {
   "cell_type": "code",
   "execution_count": null,
   "metadata": {},
   "outputs": [],
   "source": []
  }
 ],
 "metadata": {
  "kernelspec": {
   "display_name": "Python 3",
   "language": "python",
   "name": "python3"
  },
  "language_info": {
   "codemirror_mode": {
    "name": "ipython",
    "version": 3
   },
   "file_extension": ".py",
   "mimetype": "text/x-python",
   "name": "python",
   "nbconvert_exporter": "python",
   "pygments_lexer": "ipython3",
   "version": "3.7.6"
  }
 },
 "nbformat": 4,
 "nbformat_minor": 4
}
