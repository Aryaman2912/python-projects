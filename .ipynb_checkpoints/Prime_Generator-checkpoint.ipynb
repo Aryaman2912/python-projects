{
 "cells": [
  {
   "cell_type": "code",
   "execution_count": 4,
   "metadata": {},
   "outputs": [
    {
     "name": "stdout",
     "output_type": "stream",
     "text": [
      "Do you want a prime(Y/N): n\n",
      "Ok. Thank you\n"
     ]
    }
   ],
   "source": [
    "import math\n",
    "\n",
    "cur = 2\n",
    "i = 1\n",
    "def prime(cur,j):\n",
    "    while True:\n",
    "        s = input(\"Do you want to generate another prime number(Y/N): \")\n",
    "        if s.lower() == \"yes\" or s.lower() == \"y\":\n",
    "            while True:\n",
    "                flag = 0\n",
    "                cur += 1\n",
    "                for i in range(2,int(math.sqrt(cur))+1):\n",
    "                    if cur % i == 0:\n",
    "                        flag = 1\n",
    "                        break\n",
    "                if flag == 1:\n",
    "                    continue\n",
    "                else:\n",
    "                    print(f'Prime No. {j} = {cur}')\n",
    "                    break\n",
    "            j += 1\n",
    "        elif s.lower() == \"no\" or s.lower() == \"n\":\n",
    "            print(\"Thank for checking out the program. Bye\")\n",
    "            break\n",
    "        else:\n",
    "            print(\"Please enter a valid response\")\n",
    "            continue\n",
    "\n",
    "x = input(\"Do you want a prime(Y/N): \")\n",
    "if x.lower() == \"y\" or x.lower() == \"yes\":\n",
    "    print(f'Prime No. 1 = {cur}')\n",
    "    prime(cur,2)\n",
    "elif x.lower() == \"n\" or x.lower() == \"no\":\n",
    "    print(\"Ok. Thank you\")\n",
    "else:\n",
    "    print(\"Invalid response\")\n"
   ]
  }
 ],
 "metadata": {
  "kernelspec": {
   "display_name": "Python 3",
   "language": "python",
   "name": "python3"
  },
  "language_info": {
   "codemirror_mode": {
    "name": "ipython",
    "version": 3
   },
   "file_extension": ".py",
   "mimetype": "text/x-python",
   "name": "python",
   "nbconvert_exporter": "python",
   "pygments_lexer": "ipython3",
   "version": "3.7.6"
  }
 },
 "nbformat": 4,
 "nbformat_minor": 4
}
