{
 "cells": [
  {
   "cell_type": "code",
   "execution_count": null,
   "metadata": {},
   "outputs": [],
   "source": [
    "W = int(input(\"Enter the width of the tiling area(in ft): \"))\n",
    "H = int(input(\"Enter the height of the tiling area(in ft): \"))\n",
    "c = int(input(\"Enter the cost of the tiling area per sq ft: \"))\n",
    "cost = (W*H)/c\n",
    "print('Cost of covering = {cost}')"
   ]
  }
 ],
 "metadata": {
  "kernelspec": {
   "display_name": "Python 3",
   "language": "python",
   "name": "python3"
  },
  "language_info": {
   "codemirror_mode": {
    "name": "ipython",
    "version": 3
   },
   "file_extension": ".py",
   "mimetype": "text/x-python",
   "name": "python",
   "nbconvert_exporter": "python",
   "pygments_lexer": "ipython3",
   "version": "3.7.6"
  }
 },
 "nbformat": 4,
 "nbformat_minor": 4
}
